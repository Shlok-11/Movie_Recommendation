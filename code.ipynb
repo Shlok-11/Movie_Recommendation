{
  "nbformat": 4,
  "nbformat_minor": 0,
  "metadata": {
    "colab": {
      "provenance": [],
      "authorship_tag": "ABX9TyNfALJBRJbD64FejI/7jJRK",
      "include_colab_link": true
    },
    "kernelspec": {
      "name": "python3",
      "display_name": "Python 3"
    },
    "language_info": {
      "name": "python"
    }
  },
  "cells": [
    {
      "cell_type": "markdown",
      "metadata": {
        "id": "view-in-github",
        "colab_type": "text"
      },
      "source": [
        "<a href=\"https://colab.research.google.com/github/Shlok-11/Movie_Recommendation/blob/main/code.ipynb\" target=\"_parent\"><img src=\"https://colab.research.google.com/assets/colab-badge.svg\" alt=\"Open In Colab\"/></a>"
      ]
    },
    {
      "cell_type": "code",
      "execution_count": null,
      "metadata": {
        "id": "VSDFToNKLio4"
      },
      "outputs": [],
      "source": [
        "# Import necessary libraries\n",
        "import pandas as pd\n",
        "import re\n",
        "import numpy as np\n",
        "from sklearn.feature_extraction.text import TfidfVectorizer\n",
        "from sklearn.metrics.pairwise import cosine_similarity\n",
        "import ipywidgets as widgets\n",
        "from IPython.display import display\n",
        "\n",
        "# OPTIONAL: If your file is in Google Drive\n",
        "# from google.colab import drive\n",
        "# drive.mount('/content/drive')\n"
      ]
    },
    {
      "cell_type": "code",
      "source": [
        "# Use this if you want to manually upload the CSV from your computer\n",
        "from google.colab import files\n",
        "uploaded = files.upload()\n",
        "\n",
        "# Now load the uploaded CSV\n",
        "# Example: If you uploaded \"movies.csv\"\n",
        "movies = pd.read_csv(next(iter(uploaded)))\n",
        "\n",
        "# Show first few rows\n",
        "movies.head()\n"
      ],
      "metadata": {
        "id": "H2-lEncrLnJO"
      },
      "execution_count": null,
      "outputs": []
    },
    {
      "cell_type": "code",
      "source": [
        "def clean_title(title):\n",
        "    # Remove special characters, keep letters/numbers/space\n",
        "    title = re.sub(\"[^a-zA-Z0-9 ]\", \"\", title)\n",
        "    return title\n",
        "\n",
        "# Apply cleaning\n",
        "movies[\"clean_title\"] = movies[\"title\"].apply(clean_title)\n",
        "\n",
        "movies.head()\n"
      ],
      "metadata": {
        "id": "WVGMgspeLpW6"
      },
      "execution_count": null,
      "outputs": []
    },
    {
      "cell_type": "code",
      "source": [
        "vectorizer = TfidfVectorizer(ngram_range=(1,2))\n",
        "\n",
        "# Transform the clean titles\n",
        "tfidf = vectorizer.fit_transform(movies[\"clean_title\"])\n"
      ],
      "metadata": {
        "id": "SksA5JX4LrF_"
      },
      "execution_count": null,
      "outputs": []
    },
    {
      "cell_type": "code",
      "source": [
        "def search(title):\n",
        "    title = clean_title(title)\n",
        "    query_vec = vectorizer.transform([title])\n",
        "    similarity = cosine_similarity(query_vec, tfidf).flatten()\n",
        "    indices = np.argpartition(similarity, -5)[-5:]\n",
        "    results = movies.iloc[indices].iloc[::-1]\n",
        "    return results\n"
      ],
      "metadata": {
        "id": "gghCiWBSLtA8"
      },
      "execution_count": null,
      "outputs": []
    },
    {
      "cell_type": "code",
      "source": [
        "movie_input = widgets.Text(value='', description='Movie:')\n",
        "button = widgets.Button(description='Search')\n",
        "output = widgets.Output()\n",
        "\n",
        "def on_button_click(b):\n",
        "    with output:\n",
        "        output.clear_output()\n",
        "        display(search(movie_input.value))\n",
        "\n",
        "button.on_click(on_button_click)\n",
        "\n",
        "display(movie_input, button, output)\n"
      ],
      "metadata": {
        "id": "h58JSEsXLu4G"
      },
      "execution_count": null,
      "outputs": []
    },
    {
      "cell_type": "code",
      "source": [],
      "metadata": {
        "id": "2BujKMBeLwdr"
      },
      "execution_count": null,
      "outputs": []
    }
  ]
}